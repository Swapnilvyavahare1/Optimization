{
  "nbformat": 4,
  "nbformat_minor": 0,
  "metadata": {
    "colab": {
      "provenance": []
    },
    "kernelspec": {
      "name": "python3",
      "display_name": "Python 3"
    },
    "language_info": {
      "name": "python"
    },
    "accelerator": "GPU",
    "gpuClass": "standard"
  },
  "cells": [
    {
      "cell_type": "code",
      "execution_count": 1,
      "metadata": {
        "id": "xe4lxNajIBEv"
      },
      "outputs": [],
      "source": [
        "import numpy as np\n",
        "import pandas as pd\n",
        "import matplotlib.pyplot as plt\n",
        "import seaborn as sns\n",
        "import time"
      ]
    },
    {
      "cell_type": "code",
      "source": [
        "df= pd.read_csv('/content/Social_Network_Ads.csv')\n",
        "df.head()"
      ],
      "metadata": {
        "colab": {
          "base_uri": "https://localhost:8080/",
          "height": 206
        },
        "id": "_MDKe0EYIiea",
        "outputId": "b5eac198-3b8f-4b36-f3f3-9f310a179c87"
      },
      "execution_count": 3,
      "outputs": [
        {
          "output_type": "execute_result",
          "data": {
            "text/plain": [
              "    User ID  Gender  Age  EstimatedSalary  Purchased\n",
              "0  15624510    Male   19            19000          0\n",
              "1  15810944    Male   35            20000          0\n",
              "2  15668575  Female   26            43000          0\n",
              "3  15603246  Female   27            57000          0\n",
              "4  15804002    Male   19            76000          0"
            ],
            "text/html": [
              "\n",
              "  <div id=\"df-f7123726-9804-4efa-ab99-2cf3cd86b0da\">\n",
              "    <div class=\"colab-df-container\">\n",
              "      <div>\n",
              "<style scoped>\n",
              "    .dataframe tbody tr th:only-of-type {\n",
              "        vertical-align: middle;\n",
              "    }\n",
              "\n",
              "    .dataframe tbody tr th {\n",
              "        vertical-align: top;\n",
              "    }\n",
              "\n",
              "    .dataframe thead th {\n",
              "        text-align: right;\n",
              "    }\n",
              "</style>\n",
              "<table border=\"1\" class=\"dataframe\">\n",
              "  <thead>\n",
              "    <tr style=\"text-align: right;\">\n",
              "      <th></th>\n",
              "      <th>User ID</th>\n",
              "      <th>Gender</th>\n",
              "      <th>Age</th>\n",
              "      <th>EstimatedSalary</th>\n",
              "      <th>Purchased</th>\n",
              "    </tr>\n",
              "  </thead>\n",
              "  <tbody>\n",
              "    <tr>\n",
              "      <th>0</th>\n",
              "      <td>15624510</td>\n",
              "      <td>Male</td>\n",
              "      <td>19</td>\n",
              "      <td>19000</td>\n",
              "      <td>0</td>\n",
              "    </tr>\n",
              "    <tr>\n",
              "      <th>1</th>\n",
              "      <td>15810944</td>\n",
              "      <td>Male</td>\n",
              "      <td>35</td>\n",
              "      <td>20000</td>\n",
              "      <td>0</td>\n",
              "    </tr>\n",
              "    <tr>\n",
              "      <th>2</th>\n",
              "      <td>15668575</td>\n",
              "      <td>Female</td>\n",
              "      <td>26</td>\n",
              "      <td>43000</td>\n",
              "      <td>0</td>\n",
              "    </tr>\n",
              "    <tr>\n",
              "      <th>3</th>\n",
              "      <td>15603246</td>\n",
              "      <td>Female</td>\n",
              "      <td>27</td>\n",
              "      <td>57000</td>\n",
              "      <td>0</td>\n",
              "    </tr>\n",
              "    <tr>\n",
              "      <th>4</th>\n",
              "      <td>15804002</td>\n",
              "      <td>Male</td>\n",
              "      <td>19</td>\n",
              "      <td>76000</td>\n",
              "      <td>0</td>\n",
              "    </tr>\n",
              "  </tbody>\n",
              "</table>\n",
              "</div>\n",
              "      <button class=\"colab-df-convert\" onclick=\"convertToInteractive('df-f7123726-9804-4efa-ab99-2cf3cd86b0da')\"\n",
              "              title=\"Convert this dataframe to an interactive table.\"\n",
              "              style=\"display:none;\">\n",
              "        \n",
              "  <svg xmlns=\"http://www.w3.org/2000/svg\" height=\"24px\"viewBox=\"0 0 24 24\"\n",
              "       width=\"24px\">\n",
              "    <path d=\"M0 0h24v24H0V0z\" fill=\"none\"/>\n",
              "    <path d=\"M18.56 5.44l.94 2.06.94-2.06 2.06-.94-2.06-.94-.94-2.06-.94 2.06-2.06.94zm-11 1L8.5 8.5l.94-2.06 2.06-.94-2.06-.94L8.5 2.5l-.94 2.06-2.06.94zm10 10l.94 2.06.94-2.06 2.06-.94-2.06-.94-.94-2.06-.94 2.06-2.06.94z\"/><path d=\"M17.41 7.96l-1.37-1.37c-.4-.4-.92-.59-1.43-.59-.52 0-1.04.2-1.43.59L10.3 9.45l-7.72 7.72c-.78.78-.78 2.05 0 2.83L4 21.41c.39.39.9.59 1.41.59.51 0 1.02-.2 1.41-.59l7.78-7.78 2.81-2.81c.8-.78.8-2.07 0-2.86zM5.41 20L4 18.59l7.72-7.72 1.47 1.35L5.41 20z\"/>\n",
              "  </svg>\n",
              "      </button>\n",
              "      \n",
              "  <style>\n",
              "    .colab-df-container {\n",
              "      display:flex;\n",
              "      flex-wrap:wrap;\n",
              "      gap: 12px;\n",
              "    }\n",
              "\n",
              "    .colab-df-convert {\n",
              "      background-color: #E8F0FE;\n",
              "      border: none;\n",
              "      border-radius: 50%;\n",
              "      cursor: pointer;\n",
              "      display: none;\n",
              "      fill: #1967D2;\n",
              "      height: 32px;\n",
              "      padding: 0 0 0 0;\n",
              "      width: 32px;\n",
              "    }\n",
              "\n",
              "    .colab-df-convert:hover {\n",
              "      background-color: #E2EBFA;\n",
              "      box-shadow: 0px 1px 2px rgba(60, 64, 67, 0.3), 0px 1px 3px 1px rgba(60, 64, 67, 0.15);\n",
              "      fill: #174EA6;\n",
              "    }\n",
              "\n",
              "    [theme=dark] .colab-df-convert {\n",
              "      background-color: #3B4455;\n",
              "      fill: #D2E3FC;\n",
              "    }\n",
              "\n",
              "    [theme=dark] .colab-df-convert:hover {\n",
              "      background-color: #434B5C;\n",
              "      box-shadow: 0px 1px 3px 1px rgba(0, 0, 0, 0.15);\n",
              "      filter: drop-shadow(0px 1px 2px rgba(0, 0, 0, 0.3));\n",
              "      fill: #FFFFFF;\n",
              "    }\n",
              "  </style>\n",
              "\n",
              "      <script>\n",
              "        const buttonEl =\n",
              "          document.querySelector('#df-f7123726-9804-4efa-ab99-2cf3cd86b0da button.colab-df-convert');\n",
              "        buttonEl.style.display =\n",
              "          google.colab.kernel.accessAllowed ? 'block' : 'none';\n",
              "\n",
              "        async function convertToInteractive(key) {\n",
              "          const element = document.querySelector('#df-f7123726-9804-4efa-ab99-2cf3cd86b0da');\n",
              "          const dataTable =\n",
              "            await google.colab.kernel.invokeFunction('convertToInteractive',\n",
              "                                                     [key], {});\n",
              "          if (!dataTable) return;\n",
              "\n",
              "          const docLinkHtml = 'Like what you see? Visit the ' +\n",
              "            '<a target=\"_blank\" href=https://colab.research.google.com/notebooks/data_table.ipynb>data table notebook</a>'\n",
              "            + ' to learn more about interactive tables.';\n",
              "          element.innerHTML = '';\n",
              "          dataTable['output_type'] = 'display_data';\n",
              "          await google.colab.output.renderOutput(dataTable, element);\n",
              "          const docLink = document.createElement('div');\n",
              "          docLink.innerHTML = docLinkHtml;\n",
              "          element.appendChild(docLink);\n",
              "        }\n",
              "      </script>\n",
              "    </div>\n",
              "  </div>\n",
              "  "
            ]
          },
          "metadata": {},
          "execution_count": 3
        }
      ]
    },
    {
      "cell_type": "code",
      "source": [
        "df= df.iloc[:, 2:]\n",
        "df.head()"
      ],
      "metadata": {
        "colab": {
          "base_uri": "https://localhost:8080/",
          "height": 206
        },
        "id": "4AayWkVkI7HS",
        "outputId": "e193cf6c-ecb2-437c-d2cf-4c2154877ad7"
      },
      "execution_count": 5,
      "outputs": [
        {
          "output_type": "execute_result",
          "data": {
            "text/plain": [
              "   Age  EstimatedSalary  Purchased\n",
              "0   19            19000          0\n",
              "1   35            20000          0\n",
              "2   26            43000          0\n",
              "3   27            57000          0\n",
              "4   19            76000          0"
            ],
            "text/html": [
              "\n",
              "  <div id=\"df-d0be7478-1072-4d2b-892e-00857b99a7ed\">\n",
              "    <div class=\"colab-df-container\">\n",
              "      <div>\n",
              "<style scoped>\n",
              "    .dataframe tbody tr th:only-of-type {\n",
              "        vertical-align: middle;\n",
              "    }\n",
              "\n",
              "    .dataframe tbody tr th {\n",
              "        vertical-align: top;\n",
              "    }\n",
              "\n",
              "    .dataframe thead th {\n",
              "        text-align: right;\n",
              "    }\n",
              "</style>\n",
              "<table border=\"1\" class=\"dataframe\">\n",
              "  <thead>\n",
              "    <tr style=\"text-align: right;\">\n",
              "      <th></th>\n",
              "      <th>Age</th>\n",
              "      <th>EstimatedSalary</th>\n",
              "      <th>Purchased</th>\n",
              "    </tr>\n",
              "  </thead>\n",
              "  <tbody>\n",
              "    <tr>\n",
              "      <th>0</th>\n",
              "      <td>19</td>\n",
              "      <td>19000</td>\n",
              "      <td>0</td>\n",
              "    </tr>\n",
              "    <tr>\n",
              "      <th>1</th>\n",
              "      <td>35</td>\n",
              "      <td>20000</td>\n",
              "      <td>0</td>\n",
              "    </tr>\n",
              "    <tr>\n",
              "      <th>2</th>\n",
              "      <td>26</td>\n",
              "      <td>43000</td>\n",
              "      <td>0</td>\n",
              "    </tr>\n",
              "    <tr>\n",
              "      <th>3</th>\n",
              "      <td>27</td>\n",
              "      <td>57000</td>\n",
              "      <td>0</td>\n",
              "    </tr>\n",
              "    <tr>\n",
              "      <th>4</th>\n",
              "      <td>19</td>\n",
              "      <td>76000</td>\n",
              "      <td>0</td>\n",
              "    </tr>\n",
              "  </tbody>\n",
              "</table>\n",
              "</div>\n",
              "      <button class=\"colab-df-convert\" onclick=\"convertToInteractive('df-d0be7478-1072-4d2b-892e-00857b99a7ed')\"\n",
              "              title=\"Convert this dataframe to an interactive table.\"\n",
              "              style=\"display:none;\">\n",
              "        \n",
              "  <svg xmlns=\"http://www.w3.org/2000/svg\" height=\"24px\"viewBox=\"0 0 24 24\"\n",
              "       width=\"24px\">\n",
              "    <path d=\"M0 0h24v24H0V0z\" fill=\"none\"/>\n",
              "    <path d=\"M18.56 5.44l.94 2.06.94-2.06 2.06-.94-2.06-.94-.94-2.06-.94 2.06-2.06.94zm-11 1L8.5 8.5l.94-2.06 2.06-.94-2.06-.94L8.5 2.5l-.94 2.06-2.06.94zm10 10l.94 2.06.94-2.06 2.06-.94-2.06-.94-.94-2.06-.94 2.06-2.06.94z\"/><path d=\"M17.41 7.96l-1.37-1.37c-.4-.4-.92-.59-1.43-.59-.52 0-1.04.2-1.43.59L10.3 9.45l-7.72 7.72c-.78.78-.78 2.05 0 2.83L4 21.41c.39.39.9.59 1.41.59.51 0 1.02-.2 1.41-.59l7.78-7.78 2.81-2.81c.8-.78.8-2.07 0-2.86zM5.41 20L4 18.59l7.72-7.72 1.47 1.35L5.41 20z\"/>\n",
              "  </svg>\n",
              "      </button>\n",
              "      \n",
              "  <style>\n",
              "    .colab-df-container {\n",
              "      display:flex;\n",
              "      flex-wrap:wrap;\n",
              "      gap: 12px;\n",
              "    }\n",
              "\n",
              "    .colab-df-convert {\n",
              "      background-color: #E8F0FE;\n",
              "      border: none;\n",
              "      border-radius: 50%;\n",
              "      cursor: pointer;\n",
              "      display: none;\n",
              "      fill: #1967D2;\n",
              "      height: 32px;\n",
              "      padding: 0 0 0 0;\n",
              "      width: 32px;\n",
              "    }\n",
              "\n",
              "    .colab-df-convert:hover {\n",
              "      background-color: #E2EBFA;\n",
              "      box-shadow: 0px 1px 2px rgba(60, 64, 67, 0.3), 0px 1px 3px 1px rgba(60, 64, 67, 0.15);\n",
              "      fill: #174EA6;\n",
              "    }\n",
              "\n",
              "    [theme=dark] .colab-df-convert {\n",
              "      background-color: #3B4455;\n",
              "      fill: #D2E3FC;\n",
              "    }\n",
              "\n",
              "    [theme=dark] .colab-df-convert:hover {\n",
              "      background-color: #434B5C;\n",
              "      box-shadow: 0px 1px 3px 1px rgba(0, 0, 0, 0.15);\n",
              "      filter: drop-shadow(0px 1px 2px rgba(0, 0, 0, 0.3));\n",
              "      fill: #FFFFFF;\n",
              "    }\n",
              "  </style>\n",
              "\n",
              "      <script>\n",
              "        const buttonEl =\n",
              "          document.querySelector('#df-d0be7478-1072-4d2b-892e-00857b99a7ed button.colab-df-convert');\n",
              "        buttonEl.style.display =\n",
              "          google.colab.kernel.accessAllowed ? 'block' : 'none';\n",
              "\n",
              "        async function convertToInteractive(key) {\n",
              "          const element = document.querySelector('#df-d0be7478-1072-4d2b-892e-00857b99a7ed');\n",
              "          const dataTable =\n",
              "            await google.colab.kernel.invokeFunction('convertToInteractive',\n",
              "                                                     [key], {});\n",
              "          if (!dataTable) return;\n",
              "\n",
              "          const docLinkHtml = 'Like what you see? Visit the ' +\n",
              "            '<a target=\"_blank\" href=https://colab.research.google.com/notebooks/data_table.ipynb>data table notebook</a>'\n",
              "            + ' to learn more about interactive tables.';\n",
              "          element.innerHTML = '';\n",
              "          dataTable['output_type'] = 'display_data';\n",
              "          await google.colab.output.renderOutput(dataTable, element);\n",
              "          const docLink = document.createElement('div');\n",
              "          docLink.innerHTML = docLinkHtml;\n",
              "          element.appendChild(docLink);\n",
              "        }\n",
              "      </script>\n",
              "    </div>\n",
              "  </div>\n",
              "  "
            ]
          },
          "metadata": {},
          "execution_count": 5
        }
      ]
    },
    {
      "cell_type": "code",
      "source": [
        "x= df.iloc[:, 0:2]\n",
        "y= df.iloc[:,-1]"
      ],
      "metadata": {
        "id": "m9UblbREJFPK"
      },
      "execution_count": 6,
      "outputs": []
    },
    {
      "cell_type": "code",
      "source": [
        "x.head()"
      ],
      "metadata": {
        "colab": {
          "base_uri": "https://localhost:8080/",
          "height": 206
        },
        "id": "xu1avhvCJMFz",
        "outputId": "013e2719-2fd3-49bd-8d28-41fae56ffba5"
      },
      "execution_count": 7,
      "outputs": [
        {
          "output_type": "execute_result",
          "data": {
            "text/plain": [
              "   Age  EstimatedSalary\n",
              "0   19            19000\n",
              "1   35            20000\n",
              "2   26            43000\n",
              "3   27            57000\n",
              "4   19            76000"
            ],
            "text/html": [
              "\n",
              "  <div id=\"df-526ca24d-bb6d-478e-be0e-97a443c5068e\">\n",
              "    <div class=\"colab-df-container\">\n",
              "      <div>\n",
              "<style scoped>\n",
              "    .dataframe tbody tr th:only-of-type {\n",
              "        vertical-align: middle;\n",
              "    }\n",
              "\n",
              "    .dataframe tbody tr th {\n",
              "        vertical-align: top;\n",
              "    }\n",
              "\n",
              "    .dataframe thead th {\n",
              "        text-align: right;\n",
              "    }\n",
              "</style>\n",
              "<table border=\"1\" class=\"dataframe\">\n",
              "  <thead>\n",
              "    <tr style=\"text-align: right;\">\n",
              "      <th></th>\n",
              "      <th>Age</th>\n",
              "      <th>EstimatedSalary</th>\n",
              "    </tr>\n",
              "  </thead>\n",
              "  <tbody>\n",
              "    <tr>\n",
              "      <th>0</th>\n",
              "      <td>19</td>\n",
              "      <td>19000</td>\n",
              "    </tr>\n",
              "    <tr>\n",
              "      <th>1</th>\n",
              "      <td>35</td>\n",
              "      <td>20000</td>\n",
              "    </tr>\n",
              "    <tr>\n",
              "      <th>2</th>\n",
              "      <td>26</td>\n",
              "      <td>43000</td>\n",
              "    </tr>\n",
              "    <tr>\n",
              "      <th>3</th>\n",
              "      <td>27</td>\n",
              "      <td>57000</td>\n",
              "    </tr>\n",
              "    <tr>\n",
              "      <th>4</th>\n",
              "      <td>19</td>\n",
              "      <td>76000</td>\n",
              "    </tr>\n",
              "  </tbody>\n",
              "</table>\n",
              "</div>\n",
              "      <button class=\"colab-df-convert\" onclick=\"convertToInteractive('df-526ca24d-bb6d-478e-be0e-97a443c5068e')\"\n",
              "              title=\"Convert this dataframe to an interactive table.\"\n",
              "              style=\"display:none;\">\n",
              "        \n",
              "  <svg xmlns=\"http://www.w3.org/2000/svg\" height=\"24px\"viewBox=\"0 0 24 24\"\n",
              "       width=\"24px\">\n",
              "    <path d=\"M0 0h24v24H0V0z\" fill=\"none\"/>\n",
              "    <path d=\"M18.56 5.44l.94 2.06.94-2.06 2.06-.94-2.06-.94-.94-2.06-.94 2.06-2.06.94zm-11 1L8.5 8.5l.94-2.06 2.06-.94-2.06-.94L8.5 2.5l-.94 2.06-2.06.94zm10 10l.94 2.06.94-2.06 2.06-.94-2.06-.94-.94-2.06-.94 2.06-2.06.94z\"/><path d=\"M17.41 7.96l-1.37-1.37c-.4-.4-.92-.59-1.43-.59-.52 0-1.04.2-1.43.59L10.3 9.45l-7.72 7.72c-.78.78-.78 2.05 0 2.83L4 21.41c.39.39.9.59 1.41.59.51 0 1.02-.2 1.41-.59l7.78-7.78 2.81-2.81c.8-.78.8-2.07 0-2.86zM5.41 20L4 18.59l7.72-7.72 1.47 1.35L5.41 20z\"/>\n",
              "  </svg>\n",
              "      </button>\n",
              "      \n",
              "  <style>\n",
              "    .colab-df-container {\n",
              "      display:flex;\n",
              "      flex-wrap:wrap;\n",
              "      gap: 12px;\n",
              "    }\n",
              "\n",
              "    .colab-df-convert {\n",
              "      background-color: #E8F0FE;\n",
              "      border: none;\n",
              "      border-radius: 50%;\n",
              "      cursor: pointer;\n",
              "      display: none;\n",
              "      fill: #1967D2;\n",
              "      height: 32px;\n",
              "      padding: 0 0 0 0;\n",
              "      width: 32px;\n",
              "    }\n",
              "\n",
              "    .colab-df-convert:hover {\n",
              "      background-color: #E2EBFA;\n",
              "      box-shadow: 0px 1px 2px rgba(60, 64, 67, 0.3), 0px 1px 3px 1px rgba(60, 64, 67, 0.15);\n",
              "      fill: #174EA6;\n",
              "    }\n",
              "\n",
              "    [theme=dark] .colab-df-convert {\n",
              "      background-color: #3B4455;\n",
              "      fill: #D2E3FC;\n",
              "    }\n",
              "\n",
              "    [theme=dark] .colab-df-convert:hover {\n",
              "      background-color: #434B5C;\n",
              "      box-shadow: 0px 1px 3px 1px rgba(0, 0, 0, 0.15);\n",
              "      filter: drop-shadow(0px 1px 2px rgba(0, 0, 0, 0.3));\n",
              "      fill: #FFFFFF;\n",
              "    }\n",
              "  </style>\n",
              "\n",
              "      <script>\n",
              "        const buttonEl =\n",
              "          document.querySelector('#df-526ca24d-bb6d-478e-be0e-97a443c5068e button.colab-df-convert');\n",
              "        buttonEl.style.display =\n",
              "          google.colab.kernel.accessAllowed ? 'block' : 'none';\n",
              "\n",
              "        async function convertToInteractive(key) {\n",
              "          const element = document.querySelector('#df-526ca24d-bb6d-478e-be0e-97a443c5068e');\n",
              "          const dataTable =\n",
              "            await google.colab.kernel.invokeFunction('convertToInteractive',\n",
              "                                                     [key], {});\n",
              "          if (!dataTable) return;\n",
              "\n",
              "          const docLinkHtml = 'Like what you see? Visit the ' +\n",
              "            '<a target=\"_blank\" href=https://colab.research.google.com/notebooks/data_table.ipynb>data table notebook</a>'\n",
              "            + ' to learn more about interactive tables.';\n",
              "          element.innerHTML = '';\n",
              "          dataTable['output_type'] = 'display_data';\n",
              "          await google.colab.output.renderOutput(dataTable, element);\n",
              "          const docLink = document.createElement('div');\n",
              "          docLink.innerHTML = docLinkHtml;\n",
              "          element.appendChild(docLink);\n",
              "        }\n",
              "      </script>\n",
              "    </div>\n",
              "  </div>\n",
              "  "
            ]
          },
          "metadata": {},
          "execution_count": 7
        }
      ]
    },
    {
      "cell_type": "code",
      "source": [
        "y.head()"
      ],
      "metadata": {
        "colab": {
          "base_uri": "https://localhost:8080/"
        },
        "id": "mF-jKFz0JP-a",
        "outputId": "a935fce9-de9b-4ccd-afde-0230de319733"
      },
      "execution_count": 8,
      "outputs": [
        {
          "output_type": "execute_result",
          "data": {
            "text/plain": [
              "0    0\n",
              "1    0\n",
              "2    0\n",
              "3    0\n",
              "4    0\n",
              "Name: Purchased, dtype: int64"
            ]
          },
          "metadata": {},
          "execution_count": 8
        }
      ]
    },
    {
      "cell_type": "code",
      "source": [
        "from sklearn.preprocessing import StandardScaler\n",
        "scaler= StandardScaler()\n",
        "x_scaled= scaler.fit_transform(x)"
      ],
      "metadata": {
        "id": "YuvbMQCFJSXq"
      },
      "execution_count": 9,
      "outputs": []
    },
    {
      "cell_type": "code",
      "source": [
        "x_scaled.shape"
      ],
      "metadata": {
        "colab": {
          "base_uri": "https://localhost:8080/"
        },
        "id": "HmGnFwXJJhCr",
        "outputId": "e2ec5026-97ee-485e-b227-de9b8dcdb36a"
      },
      "execution_count": 10,
      "outputs": [
        {
          "output_type": "execute_result",
          "data": {
            "text/plain": [
              "(400, 2)"
            ]
          },
          "metadata": {},
          "execution_count": 10
        }
      ]
    },
    {
      "cell_type": "markdown",
      "source": [
        "**DNN model**"
      ],
      "metadata": {
        "id": "8XPNw8uhJmG7"
      }
    },
    {
      "cell_type": "code",
      "source": [
        "import tensorflow as tf\n",
        "from tensorflow import keras\n",
        "from keras.layers import Dense\n",
        "from keras import Sequential"
      ],
      "metadata": {
        "id": "5Z-vpMMWJlQq"
      },
      "execution_count": 11,
      "outputs": []
    },
    {
      "cell_type": "code",
      "source": [
        "model= Sequential()\n",
        "model.add(Dense(10, activation='relu', input_dim=2))\n",
        "model.add(Dense(10, activation='relu'))\n",
        "model.add(Dense(1, activation='sigmoid'))\n",
        "model.summary()"
      ],
      "metadata": {
        "colab": {
          "base_uri": "https://localhost:8080/"
        },
        "id": "knzlF8jrJ81y",
        "outputId": "3dffbb3b-a4c0-487f-b118-95dbf0df1b16"
      },
      "execution_count": 12,
      "outputs": [
        {
          "output_type": "stream",
          "name": "stdout",
          "text": [
            "Model: \"sequential\"\n",
            "_________________________________________________________________\n",
            " Layer (type)                Output Shape              Param #   \n",
            "=================================================================\n",
            " dense (Dense)               (None, 10)                30        \n",
            "                                                                 \n",
            " dense_1 (Dense)             (None, 10)                110       \n",
            "                                                                 \n",
            " dense_2 (Dense)             (None, 1)                 11        \n",
            "                                                                 \n",
            "=================================================================\n",
            "Total params: 151\n",
            "Trainable params: 151\n",
            "Non-trainable params: 0\n",
            "_________________________________________________________________\n"
          ]
        }
      ]
    },
    {
      "cell_type": "code",
      "source": [
        "# BGD\n",
        "model.compile(loss='binary_crossentropy', metrics=['accuracy'])\n",
        "start=time.time()\n",
        "history= model.fit(x_scaled, y, validation_split=0.2, epochs=10, batch_size=400)\n",
        "print(time.time()-start)"
      ],
      "metadata": {
        "colab": {
          "base_uri": "https://localhost:8080/"
        },
        "id": "EWxjqwWyKX9a",
        "outputId": "a23d2f6e-dd1a-4f11-c45e-42a6be52fbf9"
      },
      "execution_count": 13,
      "outputs": [
        {
          "output_type": "stream",
          "name": "stdout",
          "text": [
            "Epoch 1/10\n",
            "1/1 [==============================] - 6s 6s/step - loss: 0.5953 - accuracy: 0.8219 - val_loss: 0.6147 - val_accuracy: 0.6625\n",
            "Epoch 2/10\n",
            "1/1 [==============================] - 0s 45ms/step - loss: 0.5883 - accuracy: 0.8250 - val_loss: 0.6123 - val_accuracy: 0.6625\n",
            "Epoch 3/10\n",
            "1/1 [==============================] - 0s 57ms/step - loss: 0.5832 - accuracy: 0.8250 - val_loss: 0.6104 - val_accuracy: 0.6625\n",
            "Epoch 4/10\n",
            "1/1 [==============================] - 0s 38ms/step - loss: 0.5790 - accuracy: 0.8250 - val_loss: 0.6086 - val_accuracy: 0.6750\n",
            "Epoch 5/10\n",
            "1/1 [==============================] - 0s 50ms/step - loss: 0.5752 - accuracy: 0.8281 - val_loss: 0.6069 - val_accuracy: 0.6875\n",
            "Epoch 6/10\n",
            "1/1 [==============================] - 0s 43ms/step - loss: 0.5718 - accuracy: 0.8344 - val_loss: 0.6053 - val_accuracy: 0.6875\n",
            "Epoch 7/10\n",
            "1/1 [==============================] - 0s 59ms/step - loss: 0.5686 - accuracy: 0.8344 - val_loss: 0.6038 - val_accuracy: 0.7000\n",
            "Epoch 8/10\n",
            "1/1 [==============================] - 0s 43ms/step - loss: 0.5656 - accuracy: 0.8344 - val_loss: 0.6024 - val_accuracy: 0.7000\n",
            "Epoch 9/10\n",
            "1/1 [==============================] - 0s 40ms/step - loss: 0.5628 - accuracy: 0.8344 - val_loss: 0.6010 - val_accuracy: 0.7000\n",
            "Epoch 10/10\n",
            "1/1 [==============================] - 0s 58ms/step - loss: 0.5600 - accuracy: 0.8344 - val_loss: 0.5996 - val_accuracy: 0.7125\n",
            "6.4784228801727295\n"
          ]
        }
      ]
    },
    {
      "cell_type": "code",
      "source": [
        "model1= Sequential()\n",
        "model1.add(Dense(10, activation='relu', input_dim=2))\n",
        "model1.add(Dense(10, activation='relu'))\n",
        "model1.add(Dense(1, activation='sigmoid'))\n",
        "model1.summary()"
      ],
      "metadata": {
        "colab": {
          "base_uri": "https://localhost:8080/"
        },
        "id": "y3mNw3bSQy4P",
        "outputId": "29ca685d-1cb8-492a-e98d-57d6c9921112"
      },
      "execution_count": 17,
      "outputs": [
        {
          "output_type": "stream",
          "name": "stdout",
          "text": [
            "Model: \"sequential_1\"\n",
            "_________________________________________________________________\n",
            " Layer (type)                Output Shape              Param #   \n",
            "=================================================================\n",
            " dense_3 (Dense)             (None, 10)                30        \n",
            "                                                                 \n",
            " dense_4 (Dense)             (None, 10)                110       \n",
            "                                                                 \n",
            " dense_5 (Dense)             (None, 1)                 11        \n",
            "                                                                 \n",
            "=================================================================\n",
            "Total params: 151\n",
            "Trainable params: 151\n",
            "Non-trainable params: 0\n",
            "_________________________________________________________________\n"
          ]
        }
      ]
    },
    {
      "cell_type": "code",
      "source": [
        "# SGD\n",
        "model1.compile(loss='binary_crossentropy', metrics=['accuracy'])\n",
        "start=time.time()\n",
        "history1= model1.fit(x_scaled, y, validation_split=0.2, epochs=10, batch_size=1)\n",
        "print(time.time()-start)"
      ],
      "metadata": {
        "colab": {
          "base_uri": "https://localhost:8080/"
        },
        "id": "MuKSQYsYLGpT",
        "outputId": "fdb0b3a2-61df-4fdf-9e24-d29982f8fcea"
      },
      "execution_count": 19,
      "outputs": [
        {
          "output_type": "stream",
          "name": "stdout",
          "text": [
            "Epoch 1/10\n",
            "320/320 [==============================] - 2s 3ms/step - loss: 0.3703 - accuracy: 0.8094 - val_loss: 0.5696 - val_accuracy: 0.6875\n",
            "Epoch 2/10\n",
            "320/320 [==============================] - 1s 3ms/step - loss: 0.3381 - accuracy: 0.8219 - val_loss: 0.5476 - val_accuracy: 0.7000\n",
            "Epoch 3/10\n",
            "320/320 [==============================] - 1s 3ms/step - loss: 0.3235 - accuracy: 0.8188 - val_loss: 0.5263 - val_accuracy: 0.7000\n",
            "Epoch 4/10\n",
            "320/320 [==============================] - 1s 3ms/step - loss: 0.3189 - accuracy: 0.8313 - val_loss: 0.5038 - val_accuracy: 0.7000\n",
            "Epoch 5/10\n",
            "320/320 [==============================] - 1s 3ms/step - loss: 0.3116 - accuracy: 0.8500 - val_loss: 0.4879 - val_accuracy: 0.7000\n",
            "Epoch 6/10\n",
            "320/320 [==============================] - 1s 3ms/step - loss: 0.3029 - accuracy: 0.8406 - val_loss: 0.4633 - val_accuracy: 0.7250\n",
            "Epoch 7/10\n",
            "320/320 [==============================] - 1s 3ms/step - loss: 0.3027 - accuracy: 0.8500 - val_loss: 0.4383 - val_accuracy: 0.7250\n",
            "Epoch 8/10\n",
            "320/320 [==============================] - 1s 3ms/step - loss: 0.2947 - accuracy: 0.8562 - val_loss: 0.4044 - val_accuracy: 0.7500\n",
            "Epoch 9/10\n",
            "320/320 [==============================] - 1s 4ms/step - loss: 0.2917 - accuracy: 0.8562 - val_loss: 0.3711 - val_accuracy: 0.7500\n",
            "Epoch 10/10\n",
            "320/320 [==============================] - 1s 4ms/step - loss: 0.2797 - accuracy: 0.8625 - val_loss: 0.3366 - val_accuracy: 0.8375\n",
            "20.926767110824585\n"
          ]
        }
      ]
    },
    {
      "cell_type": "markdown",
      "source": [
        "Observation\n",
        "1) BGD took less time\n",
        "2) SGD gave better accuracy"
      ],
      "metadata": {
        "id": "L_pSmvUDL1Q6"
      }
    },
    {
      "cell_type": "code",
      "source": [
        "plt.plot(history.history['loss'], color= 'red')\n",
        "plt.plot(history1.history['loss'], color= 'green')"
      ],
      "metadata": {
        "colab": {
          "base_uri": "https://localhost:8080/",
          "height": 448
        },
        "id": "dcLZc2CvQfkR",
        "outputId": "f898a4fe-c86e-4025-833b-732ca38373b0"
      },
      "execution_count": 21,
      "outputs": [
        {
          "output_type": "execute_result",
          "data": {
            "text/plain": [
              "[<matplotlib.lines.Line2D at 0x7efd5d7fb040>]"
            ]
          },
          "metadata": {},
          "execution_count": 21
        },
        {
          "output_type": "display_data",
          "data": {
            "text/plain": [
              "<Figure size 640x480 with 1 Axes>"
            ],
            "image/png": "[encoded data removed]"
          },
          "metadata": {}
        }
      ]
    },
    {
      "cell_type": "code",
      "source": [
        "# Mini BGD\n",
        "model2= Sequential()\n",
        "model2.add(Dense(10, activation='relu', input_dim=2))\n",
        "model2.add(Dense(10, activation='relu'))\n",
        "model2.add(Dense(1, activation='sigmoid'))\n",
        "\n",
        "model2.compile(loss='binary_crossentropy', metrics=['accuracy'])\n",
        "start=time.time()\n",
        "history2= model2.fit(x_scaled, y, validation_split=0.2, epochs=10, batch_size=32)\n",
        "print(time.time()-start)"
      ],
      "metadata": {
        "colab": {
          "base_uri": "https://localhost:8080/"
        },
        "id": "yTpd3P6ILTTi",
        "outputId": "b2dd4e61-7138-4575-e118-013029b9e6c5"
      },
      "execution_count": 22,
      "outputs": [
        {
          "output_type": "stream",
          "name": "stdout",
          "text": [
            "Epoch 1/10\n",
            "10/10 [==============================] - 1s 21ms/step - loss: 0.7098 - accuracy: 0.2969 - val_loss: 0.6042 - val_accuracy: 0.7750\n",
            "Epoch 2/10\n",
            "10/10 [==============================] - 0s 8ms/step - loss: 0.6753 - accuracy: 0.4750 - val_loss: 0.6014 - val_accuracy: 0.8750\n",
            "Epoch 3/10\n",
            "10/10 [==============================] - 0s 6ms/step - loss: 0.6502 - accuracy: 0.8031 - val_loss: 0.5984 - val_accuracy: 0.9500\n",
            "Epoch 4/10\n",
            "10/10 [==============================] - 0s 5ms/step - loss: 0.6286 - accuracy: 0.8781 - val_loss: 0.5959 - val_accuracy: 0.9125\n",
            "Epoch 5/10\n",
            "10/10 [==============================] - 0s 5ms/step - loss: 0.6083 - accuracy: 0.8719 - val_loss: 0.5917 - val_accuracy: 0.8875\n",
            "Epoch 6/10\n",
            "10/10 [==============================] - 0s 5ms/step - loss: 0.5893 - accuracy: 0.8781 - val_loss: 0.5851 - val_accuracy: 0.8875\n",
            "Epoch 7/10\n",
            "10/10 [==============================] - 0s 7ms/step - loss: 0.5709 - accuracy: 0.8656 - val_loss: 0.5779 - val_accuracy: 0.8500\n",
            "Epoch 8/10\n",
            "10/10 [==============================] - 0s 6ms/step - loss: 0.5526 - accuracy: 0.8625 - val_loss: 0.5703 - val_accuracy: 0.8375\n",
            "Epoch 9/10\n",
            "10/10 [==============================] - 0s 7ms/step - loss: 0.5347 - accuracy: 0.8656 - val_loss: 0.5621 - val_accuracy: 0.8250\n",
            "Epoch 10/10\n",
            "10/10 [==============================] - 0s 5ms/step - loss: 0.5174 - accuracy: 0.8625 - val_loss: 0.5572 - val_accuracy: 0.8250\n",
            "1.6699965000152588\n"
          ]
        }
      ]
    },
    {
      "cell_type": "code",
      "source": [
        "# Mini BGD + ADAM\n",
        "model3= Sequential()\n",
        "model3.add(Dense(10, activation='relu', input_dim=2))\n",
        "model3.add(Dense(10, activation='relu'))\n",
        "model3.add(Dense(1, activation='sigmoid'))\n",
        "\n",
        "model3.compile(loss='binary_crossentropy', optimizer= 'adam', metrics=['accuracy'])\n",
        "start=time.time()\n",
        "history3= model3.fit(x_scaled, y, validation_split=0.2, epochs=10, batch_size=32)\n",
        "print(time.time()-start)"
      ],
      "metadata": {
        "colab": {
          "base_uri": "https://localhost:8080/"
        },
        "id": "fLk6Y_SdSsXw",
        "outputId": "2ac9e263-3ab3-401b-89f6-be509dbdeb92"
      },
      "execution_count": 23,
      "outputs": [
        {
          "output_type": "stream",
          "name": "stdout",
          "text": [
            "Epoch 1/10\n",
            "10/10 [==============================] - 2s 22ms/step - loss: 0.6916 - accuracy: 0.4000 - val_loss: 0.5942 - val_accuracy: 0.8000\n",
            "Epoch 2/10\n",
            "10/10 [==============================] - 0s 6ms/step - loss: 0.6650 - accuracy: 0.6469 - val_loss: 0.5816 - val_accuracy: 0.8000\n",
            "Epoch 3/10\n",
            "10/10 [==============================] - 0s 8ms/step - loss: 0.6422 - accuracy: 0.8313 - val_loss: 0.5697 - val_accuracy: 0.8125\n",
            "Epoch 4/10\n",
            "10/10 [==============================] - 0s 7ms/step - loss: 0.6213 - accuracy: 0.8562 - val_loss: 0.5613 - val_accuracy: 0.8375\n",
            "Epoch 5/10\n",
            "10/10 [==============================] - 0s 7ms/step - loss: 0.6023 - accuracy: 0.8500 - val_loss: 0.5528 - val_accuracy: 0.8625\n",
            "Epoch 6/10\n",
            "10/10 [==============================] - 0s 7ms/step - loss: 0.5846 - accuracy: 0.8500 - val_loss: 0.5470 - val_accuracy: 0.9000\n",
            "Epoch 7/10\n",
            "10/10 [==============================] - 0s 6ms/step - loss: 0.5678 - accuracy: 0.8562 - val_loss: 0.5420 - val_accuracy: 0.9000\n",
            "Epoch 8/10\n",
            "10/10 [==============================] - 0s 6ms/step - loss: 0.5505 - accuracy: 0.8531 - val_loss: 0.5355 - val_accuracy: 0.8625\n",
            "Epoch 9/10\n",
            "10/10 [==============================] - 0s 6ms/step - loss: 0.5334 - accuracy: 0.8500 - val_loss: 0.5278 - val_accuracy: 0.8875\n",
            "Epoch 10/10\n",
            "10/10 [==============================] - 0s 7ms/step - loss: 0.5156 - accuracy: 0.8594 - val_loss: 0.5224 - val_accuracy: 0.8750\n",
            "2.2165284156799316\n"
          ]
        }
      ]
    },
    {
      "cell_type": "code",
      "source": [
        "plt.plot(history3.history['loss'], color= 'black')\n",
        "plt.plot(history.history['loss'], color= 'red')\n",
        "plt.plot(history1.history['loss'], color= 'green')"
      ],
      "metadata": {
        "colab": {
          "base_uri": "https://localhost:8080/",
          "height": 448
        },
        "id": "ZVCjkwuwTKMH",
        "outputId": "fb1a3f0f-6790-4d34-cc90-fefcb778e787"
      },
      "execution_count": 25,
      "outputs": [
        {
          "output_type": "execute_result",
          "data": {
            "text/plain": [
              "[<matplotlib.lines.Line2D at 0x7efd5c06c340>]"
            ]
          },
          "metadata": {},
          "execution_count": 25
        },
        {
          "output_type": "display_data",
          "data": {
            "text/plain": [
              "<Figure size 640x480 with 1 Axes>"
            ],
            "image/png": "[encoded data removed]"
          },
          "metadata": {}
        }
      ]
    }
  ]
}